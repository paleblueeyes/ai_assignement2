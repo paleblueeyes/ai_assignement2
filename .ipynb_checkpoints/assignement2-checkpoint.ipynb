{
 "cells": [
  {
   "cell_type": "code",
   "execution_count": 204,
   "id": "96ebc6f9",
   "metadata": {},
   "outputs": [],
   "source": [
    "%matplotlib inline\n",
    "\n",
    "import numpy as np\n",
    "import pandas as pd\n",
    "import matplotlib.pyplot as plt\n",
    "\n",
    "from sklearn import metrics\n",
    "from sklearn import preprocessing\n",
    "from sklearn.linear_model import LinearRegression\n",
    "from sklearn.model_selection import train_test_split"
   ]
  },
  {
   "cell_type": "code",
   "execution_count": 205,
   "id": "a97decf8",
   "metadata": {},
   "outputs": [],
   "source": [
    "df = pd.read_csv(\"TSLA.csv\")\n",
    "df['Date'] = pd.to_datetime(df['Date'])\n",
    "df['Date']=df['Date'].map(dt.datetime.toordinal)\n",
    "df = df.drop(columns=[\"Open\", \"Low\",\"High\", \"Adj Close\", \"Volume\"])"
   ]
  },
  {
   "cell_type": "code",
   "execution_count": 206,
   "id": "32e5c34e",
   "metadata": {},
   "outputs": [],
   "source": [
    "df['MA50'] = df.rolling(window=50)[\"Close\"].mean()\n",
    "#df['MA100'] = df.rolling(window=100)[\"Close\"].mean()"
   ]
  },
  {
   "cell_type": "code",
   "execution_count": 207,
   "id": "0b4ca8ce",
   "metadata": {},
   "outputs": [
    {
     "data": {
      "image/png": "[encoded data removed]",
      "text/plain": [
       "<Figure size 432x288 with 1 Axes>"
      ]
     },
     "metadata": {
      "needs_background": "light"
     },
     "output_type": "display_data"
    }
   ],
   "source": [
    "ax1 = df.plot(kind='line', x='Date', y='Close', color='r')    \n",
    "ax2 = df.plot(kind='line', x='Date', y='MA50', color='g', ax=ax1)\n",
    "#ax2 = df.plot(kind='line', x='Date', y='MA100', color='b', ax=ax1)   "
   ]
  },
  {
   "cell_type": "code",
   "execution_count": 208,
   "id": "b5c5872f",
   "metadata": {},
   "outputs": [],
   "source": [
    "corrMatrix = df.corr()"
   ]
  },
  {
   "cell_type": "code",
   "execution_count": 209,
   "id": "d945438a",
   "metadata": {},
   "outputs": [
    {
     "data": {
      "text/html": [
       "<style type=\"text/css\">\n",
       "#T_f9599_row0_col0, #T_f9599_row1_col1, #T_f9599_row2_col2 {\n",
       "  background-color: #b40426;\n",
       "  color: #f1f1f1;\n",
       "}\n",
       "#T_f9599_row0_col1, #T_f9599_row0_col2, #T_f9599_row2_col0 {\n",
       "  background-color: #3b4cc0;\n",
       "  color: #f1f1f1;\n",
       "}\n",
       "#T_f9599_row1_col0 {\n",
       "  background-color: #3d50c3;\n",
       "  color: #f1f1f1;\n",
       "}\n",
       "#T_f9599_row1_col2, #T_f9599_row2_col1 {\n",
       "  background-color: #c12b30;\n",
       "  color: #f1f1f1;\n",
       "}\n",
       "</style>\n",
       "<table id=\"T_f9599_\">\n",
       "  <thead>\n",
       "    <tr>\n",
       "      <th class=\"blank level0\" >&nbsp;</th>\n",
       "      <th class=\"col_heading level0 col0\" >Date</th>\n",
       "      <th class=\"col_heading level0 col1\" >Close</th>\n",
       "      <th class=\"col_heading level0 col2\" >MA50</th>\n",
       "    </tr>\n",
       "  </thead>\n",
       "  <tbody>\n",
       "    <tr>\n",
       "      <th id=\"T_f9599_level0_row0\" class=\"row_heading level0 row0\" >Date</th>\n",
       "      <td id=\"T_f9599_row0_col0\" class=\"data row0 col0\" >1.000000</td>\n",
       "      <td id=\"T_f9599_row0_col1\" class=\"data row0 col1\" >0.641504</td>\n",
       "      <td id=\"T_f9599_row0_col2\" class=\"data row0 col2\" >0.637638</td>\n",
       "    </tr>\n",
       "    <tr>\n",
       "      <th id=\"T_f9599_level0_row1\" class=\"row_heading level0 row1\" >Close</th>\n",
       "      <td id=\"T_f9599_row1_col0\" class=\"data row1 col0\" >0.641504</td>\n",
       "      <td id=\"T_f9599_row1_col1\" class=\"data row1 col1\" >1.000000</td>\n",
       "      <td id=\"T_f9599_row1_col2\" class=\"data row1 col2\" >0.986215</td>\n",
       "    </tr>\n",
       "    <tr>\n",
       "      <th id=\"T_f9599_level0_row2\" class=\"row_heading level0 row2\" >MA50</th>\n",
       "      <td id=\"T_f9599_row2_col0\" class=\"data row2 col0\" >0.637638</td>\n",
       "      <td id=\"T_f9599_row2_col1\" class=\"data row2 col1\" >0.986215</td>\n",
       "      <td id=\"T_f9599_row2_col2\" class=\"data row2 col2\" >1.000000</td>\n",
       "    </tr>\n",
       "  </tbody>\n",
       "</table>\n"
      ],
      "text/plain": [
       "<pandas.io.formats.style.Styler at 0x7fbbca190be0>"
      ]
     },
     "execution_count": 209,
     "metadata": {},
     "output_type": "execute_result"
    }
   ],
   "source": [
    "corrMatrix.style.background_gradient(cmap='coolwarm')"
   ]
  },
  {
   "cell_type": "code",
   "execution_count": 210,
   "id": "c33408e2",
   "metadata": {},
   "outputs": [],
   "source": [
    "#ax1 = df.plot(kind='scatter', x='MA50', y='Close', color='r')    \n",
    "#ax2 = df.plot(kind='scatter', x='MA100', y='Close', color='g', ax=ax1) "
   ]
  },
  {
   "cell_type": "code",
   "execution_count": 211,
   "id": "4f5b260a",
   "metadata": {},
   "outputs": [
    {
     "data": {
      "text/html": [
       "<div>\n",
       "<style scoped>\n",
       "    .dataframe tbody tr th:only-of-type {\n",
       "        vertical-align: middle;\n",
       "    }\n",
       "\n",
       "    .dataframe tbody tr th {\n",
       "        vertical-align: top;\n",
       "    }\n",
       "\n",
       "    .dataframe thead th {\n",
       "        text-align: right;\n",
       "    }\n",
       "</style>\n",
       "<table border=\"1\" class=\"dataframe\">\n",
       "  <thead>\n",
       "    <tr style=\"text-align: right;\">\n",
       "      <th></th>\n",
       "      <th>0</th>\n",
       "      <th>1</th>\n",
       "      <th>2</th>\n",
       "    </tr>\n",
       "  </thead>\n",
       "  <tbody>\n",
       "    <tr>\n",
       "      <th>50</th>\n",
       "      <td>0.017450</td>\n",
       "      <td>0.001116</td>\n",
       "      <td>0.000025</td>\n",
       "    </tr>\n",
       "    <tr>\n",
       "      <th>51</th>\n",
       "      <td>0.017693</td>\n",
       "      <td>0.000993</td>\n",
       "      <td>0.000006</td>\n",
       "    </tr>\n",
       "    <tr>\n",
       "      <th>52</th>\n",
       "      <td>0.018420</td>\n",
       "      <td>0.001118</td>\n",
       "      <td>0.000000</td>\n",
       "    </tr>\n",
       "    <tr>\n",
       "      <th>53</th>\n",
       "      <td>0.018662</td>\n",
       "      <td>0.001209</td>\n",
       "      <td>0.000010</td>\n",
       "    </tr>\n",
       "    <tr>\n",
       "      <th>54</th>\n",
       "      <td>0.018905</td>\n",
       "      <td>0.001405</td>\n",
       "      <td>0.000040</td>\n",
       "    </tr>\n",
       "  </tbody>\n",
       "</table>\n",
       "</div>"
      ],
      "text/plain": [
       "           0         1         2\n",
       "50  0.017450  0.001116  0.000025\n",
       "51  0.017693  0.000993  0.000006\n",
       "52  0.018420  0.001118  0.000000\n",
       "53  0.018662  0.001209  0.000010\n",
       "54  0.018905  0.001405  0.000040"
      ]
     },
     "execution_count": 211,
     "metadata": {},
     "output_type": "execute_result"
    }
   ],
   "source": [
    "#SCALE THE VALUES\n",
    "x = df.values \n",
    "scaler = preprocessing.MinMaxScaler().fit(x)\n",
    "x = scaler.transform(x)\n",
    "df = pd.DataFrame(x)\n",
    "df = df.iloc[50: , :] # The first 50 rows is used to calculate MA50 and will be nan. Let's drop.\n",
    "df.head()"
   ]
  },
  {
   "cell_type": "code",
   "execution_count": 212,
   "id": "fb5c3991",
   "metadata": {},
   "outputs": [],
   "source": [
    "#ax1 = df.plot(kind='line', x=0, y=1, color='r')    \n",
    "#ax2 = df.plot(kind='line', x=0, y=2, color='g', ax=ax1)"
   ]
  },
  {
   "cell_type": "code",
   "execution_count": 213,
   "id": "86fd8c64",
   "metadata": {},
   "outputs": [],
   "source": [
    "X = pd.DataFrame(df[1]) \n",
    "y = pd.DataFrame(df[2])"
   ]
  },
  {
   "cell_type": "code",
   "execution_count": 214,
   "id": "1fb333a8",
   "metadata": {},
   "outputs": [],
   "source": [
    "X_train, X_test, y_train, y_test = train_test_split(X, y, test_size=0.33, random_state=42)"
   ]
  },
  {
   "cell_type": "code",
   "execution_count": 215,
   "id": "88ff055b",
   "metadata": {},
   "outputs": [],
   "source": [
    "linear_regressor = LinearRegression()\n",
    "linear_regressor.fit(X_train, y_train)  \n",
    "Y_pred = linear_regressor.predict(X_train)  "
   ]
  },
  {
   "cell_type": "code",
   "execution_count": 217,
   "id": "b6feb793",
   "metadata": {},
   "outputs": [
    {
     "data": {
      "image/png": "[encoded data removed]",
      "text/plain": [
       "<Figure size 432x288 with 1 Axes>"
      ]
     },
     "metadata": {
      "needs_background": "light"
     },
     "output_type": "display_data"
    },
    {
     "name": "stdout",
     "output_type": "stream",
     "text": [
      "MSE = 0.0014368716521711185\n"
     ]
    }
   ],
   "source": [
    "plt.scatter(X_train, y_train)             #Plot blue dots with real data\n",
    "plt.plot(X_train, Y_pred, color='red')    #Plot red line with prediction\n",
    "plt.show()         \n",
    "print( \"MSE = \"+str(metrics.mean_squared_error(y_train,Y_pred))) #Calculate MSE\n",
    "#Show the plot"
   ]
  },
  {
   "cell_type": "code",
   "execution_count": 218,
   "id": "d310b9ab",
   "metadata": {},
   "outputs": [
    {
     "data": {
      "image/png": "[encoded data removed]",
      "text/plain": [
       "<Figure size 432x288 with 1 Axes>"
      ]
     },
     "metadata": {
      "needs_background": "light"
     },
     "output_type": "display_data"
    },
    {
     "name": "stdout",
     "output_type": "stream",
     "text": [
      "MSE = 0.0015031148493868387\n"
     ]
    }
   ],
   "source": [
    "Y_pred = linear_regressor.predict(X_test)  # Predict the model on X_test\n",
    "plt.scatter(X_test, y_test)\n",
    "plt.plot(X_test, Y_pred, color='red')\n",
    "plt.show()\n",
    "print( \"MSE = \"+str(metrics.mean_squared_error(y_test,Y_pred)))"
   ]
  },
  {
   "cell_type": "code",
   "execution_count": null,
   "id": "ed3905dd",
   "metadata": {},
   "outputs": [],
   "source": []
  }
 ],
 "metadata": {
  "kernelspec": {
   "display_name": "Python 3 (ipykernel)",
   "language": "python",
   "name": "python3"
  },
  "language_info": {
   "codemirror_mode": {
    "name": "ipython",
    "version": 3
   },
   "file_extension": ".py",
   "mimetype": "text/x-python",
   "name": "python",
   "nbconvert_exporter": "python",
   "pygments_lexer": "ipython3",
   "version": "3.8.11"
  }
 },
 "nbformat": 4,
 "nbformat_minor": 5
}
